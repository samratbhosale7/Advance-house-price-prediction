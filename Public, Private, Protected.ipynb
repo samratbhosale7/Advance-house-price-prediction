{
 "cells": [
  {
   "cell_type": "code",
   "execution_count": 15,
   "id": "640c4ba1",
   "metadata": {},
   "outputs": [],
   "source": [
    "### all the variables are public\n",
    "\n",
    "\n",
    "class car():\n",
    "    def __init__(self,windows,doors,enginetype):\n",
    "        self.windows=windows\n",
    "        self.doors=doors\n",
    "        self.enginetype=enginetype"
   ]
  },
  {
   "cell_type": "code",
   "execution_count": 16,
   "id": "86ed593d",
   "metadata": {},
   "outputs": [],
   "source": [
    "audi=car(4,5,\"diesel\")"
   ]
  },
  {
   "cell_type": "code",
   "execution_count": 18,
   "id": "98b0b936",
   "metadata": {},
   "outputs": [
    {
     "data": {
      "text/plain": [
       "['__class__',\n",
       " '__delattr__',\n",
       " '__dict__',\n",
       " '__dir__',\n",
       " '__doc__',\n",
       " '__eq__',\n",
       " '__format__',\n",
       " '__ge__',\n",
       " '__getattribute__',\n",
       " '__gt__',\n",
       " '__hash__',\n",
       " '__init__',\n",
       " '__init_subclass__',\n",
       " '__le__',\n",
       " '__lt__',\n",
       " '__module__',\n",
       " '__ne__',\n",
       " '__new__',\n",
       " '__reduce__',\n",
       " '__reduce_ex__',\n",
       " '__repr__',\n",
       " '__setattr__',\n",
       " '__sizeof__',\n",
       " '__str__',\n",
       " '__subclasshook__',\n",
       " '__weakref__',\n",
       " 'doors',\n",
       " 'enginetype',\n",
       " 'windows']"
      ]
     },
     "execution_count": 18,
     "metadata": {},
     "output_type": "execute_result"
    }
   ],
   "source": [
    "dir(audi)"
   ]
  },
  {
   "cell_type": "code",
   "execution_count": 19,
   "id": "c84bf081",
   "metadata": {},
   "outputs": [],
   "source": [
    "###  all the variables are protected\n",
    "\n",
    "\n",
    "class car():\n",
    "    def __init__(self,windows,doors,enginetype):\n",
    "        self._windows=windows\n",
    "        self._doors=doors\n",
    "        self._enginetype=enginetype"
   ]
  },
  {
   "cell_type": "code",
   "execution_count": 22,
   "id": "1211ac0f",
   "metadata": {},
   "outputs": [],
   "source": [
    "class truck(car):\n",
    "    def __init__(self,windows,doors,enginetype,horsepower):\n",
    "        super().__init__(windows,doors,enginetype)\n",
    "        self.horsepower=horsepower"
   ]
  },
  {
   "cell_type": "code",
   "execution_count": 23,
   "id": "6e9b8650",
   "metadata": {},
   "outputs": [],
   "source": [
    "truck=truck(4,4,\"diesel\",4000)"
   ]
  },
  {
   "cell_type": "code",
   "execution_count": 24,
   "id": "7a2d4c47",
   "metadata": {},
   "outputs": [
    {
     "data": {
      "text/plain": [
       "['__class__',\n",
       " '__delattr__',\n",
       " '__dict__',\n",
       " '__dir__',\n",
       " '__doc__',\n",
       " '__eq__',\n",
       " '__format__',\n",
       " '__ge__',\n",
       " '__getattribute__',\n",
       " '__gt__',\n",
       " '__hash__',\n",
       " '__init__',\n",
       " '__init_subclass__',\n",
       " '__le__',\n",
       " '__lt__',\n",
       " '__module__',\n",
       " '__ne__',\n",
       " '__new__',\n",
       " '__reduce__',\n",
       " '__reduce_ex__',\n",
       " '__repr__',\n",
       " '__setattr__',\n",
       " '__sizeof__',\n",
       " '__str__',\n",
       " '__subclasshook__',\n",
       " '__weakref__',\n",
       " '_doors',\n",
       " '_enginetype',\n",
       " '_windows',\n",
       " 'horsepower']"
      ]
     },
     "execution_count": 24,
     "metadata": {},
     "output_type": "execute_result"
    }
   ],
   "source": [
    "dir(truck)"
   ]
  },
  {
   "cell_type": "code",
   "execution_count": 25,
   "id": "34df3a07",
   "metadata": {},
   "outputs": [],
   "source": [
    "truck._doors=5"
   ]
  },
  {
   "cell_type": "code",
   "execution_count": 26,
   "id": "ad548231",
   "metadata": {},
   "outputs": [
    {
     "data": {
      "text/plain": [
       "5"
      ]
     },
     "execution_count": 26,
     "metadata": {},
     "output_type": "execute_result"
    }
   ],
   "source": [
    "truck._doors"
   ]
  },
  {
   "cell_type": "code",
   "execution_count": 27,
   "id": "441fb4c3",
   "metadata": {},
   "outputs": [],
   "source": [
    "###  private\n",
    "\n",
    "\n",
    "class car():\n",
    "    def __init__(self,windows,doors,enginetype):\n",
    "        self.__windows=windows\n",
    "        self.__doors=doors\n",
    "        self.__enginetype=enginetype"
   ]
  },
  {
   "cell_type": "code",
   "execution_count": 28,
   "id": "a00092b7",
   "metadata": {},
   "outputs": [],
   "source": [
    "audi=car(4,4,\"diesel\")"
   ]
  },
  {
   "cell_type": "code",
   "execution_count": 29,
   "id": "27e6988d",
   "metadata": {},
   "outputs": [
    {
     "data": {
      "text/plain": [
       "['__class__',\n",
       " '__delattr__',\n",
       " '__dict__',\n",
       " '__dir__',\n",
       " '__doc__',\n",
       " '__eq__',\n",
       " '__format__',\n",
       " '__ge__',\n",
       " '__getattribute__',\n",
       " '__gt__',\n",
       " '__hash__',\n",
       " '__init__',\n",
       " '__init_subclass__',\n",
       " '__le__',\n",
       " '__lt__',\n",
       " '__module__',\n",
       " '__ne__',\n",
       " '__new__',\n",
       " '__reduce__',\n",
       " '__reduce_ex__',\n",
       " '__repr__',\n",
       " '__setattr__',\n",
       " '__sizeof__',\n",
       " '__str__',\n",
       " '__subclasshook__',\n",
       " '__weakref__',\n",
       " '_car__doors',\n",
       " '_car__enginetype',\n",
       " '_car__windows']"
      ]
     },
     "execution_count": 29,
     "metadata": {},
     "output_type": "execute_result"
    }
   ],
   "source": [
    "dir(audi)"
   ]
  },
  {
   "cell_type": "code",
   "execution_count": null,
   "id": "b0e53486",
   "metadata": {},
   "outputs": [],
   "source": []
  }
 ],
 "metadata": {
  "kernelspec": {
   "display_name": "Python 3",
   "language": "python",
   "name": "python3"
  },
  "language_info": {
   "codemirror_mode": {
    "name": "ipython",
    "version": 3
   },
   "file_extension": ".py",
   "mimetype": "text/x-python",
   "name": "python",
   "nbconvert_exporter": "python",
   "pygments_lexer": "ipython3",
   "version": "3.8.8"
  }
 },
 "nbformat": 4,
 "nbformat_minor": 5
}
